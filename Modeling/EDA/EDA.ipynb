{
 "cells": [
  {
   "cell_type": "code",
   "execution_count": 14,
   "id": "split-seeker",
   "metadata": {},
   "outputs": [
    {
     "name": "stdout",
     "output_type": "stream",
     "text": [
      "jupyter envirionment\n"
     ]
    }
   ],
   "source": [
    "import os\n",
    "import sys\n",
    "import warnings\n",
    "import numpy as np\n",
    "import pandas as pd\n",
    "import json\n",
    "\n",
    "import matplotlib.pyplot as plt\n",
    "%matplotlib inline\n",
    "import seaborn as sns\n",
    "sns.set(style='white', context='notebook', palette='deep')\n",
    "\n",
    "warnings.filterwarnings(action='ignore')\n",
    "\n",
    "if get_ipython():\n",
    "    print(\"jupyter envirionment\")\n",
    "    PROJECT_DIR = os.path.abspath(os.path.join(os.path.dirname('__file__'), '..'))\n",
    "    from tqdm import tqdm_notebook as tqdm  # 이거 안해주면 한 줄씩 출력됨 ;;\n",
    "else:\n",
    "    print(\"command shell envirionment\")\n",
    "    PROJECT_DIR = os.path.abspath(os.path.join(os.path.dirname(__file__), '..'))\n",
    "    from tqdm import tqdm\n",
    "\n",
    "# sys.pathdp PROJECT_DIR 추가\n",
    "sys.path.insert(0, PROJECT_DIR)"
   ]
  },
  {
   "cell_type": "markdown",
   "id": "signal-press",
   "metadata": {},
   "source": [
    "# EDA"
   ]
  },
  {
   "cell_type": "code",
   "execution_count": 24,
   "id": "transsexual-acting",
   "metadata": {},
   "outputs": [],
   "source": [
    "import time\n",
    "from urllib.request import urlopen #python 내장 라이브러리\n",
    "import urllib\n",
    "import bs4 \n",
    "import pandas as pd\n",
    "import numpy as np\n",
    "from datetime import datetime\n",
    "from urllib.error import HTTPError\n",
    "import http.client\n",
    "import torch\n",
    "import pymysql\n",
    "from sqlalchemy import create_engine\n",
    "import warnings\n",
    "warnings.filterwarnings(\"ignore\")\n",
    "import sqlalchemy\n",
    "from wordcloud import WordCloud\n",
    "import matplotlib.pyplot as plt\n",
    "from collections import Counter\n",
    "from konlpy.tag import Okt\n",
    "from PIL import Image\n",
    "import konlpy\n",
    "import re\n",
    "\n",
    "\n",
    "\n",
    "\n",
    "today = str(datetime.today().strftime(\"%Y%m%d\"))\n",
    "df = pd.read_csv('/home/lab01/News_'+today+'.csv',dtype= {'press_id': 'object', 'section_id': 'object'})\n",
    "df_s = pd.read_csv('/home/lab01/News_s'+today+'.csv',dtype= {'press_id': 'object', 'section_id': 'object'})\n"
   ]
  },
  {
   "cell_type": "markdown",
   "id": "higher-equilibrium",
   "metadata": {},
   "source": [
    "0. 데이터 구성 <br>\n",
    "데이터는 headline, writer, url, content, created_date, press_id, section_id로 구성되어있습니다."
   ]
  },
  {
   "cell_type": "code",
   "execution_count": 25,
   "id": "secret-compound",
   "metadata": {},
   "outputs": [
    {
     "data": {
      "text/html": [
       "<div>\n",
       "<style scoped>\n",
       "    .dataframe tbody tr th:only-of-type {\n",
       "        vertical-align: middle;\n",
       "    }\n",
       "\n",
       "    .dataframe tbody tr th {\n",
       "        vertical-align: top;\n",
       "    }\n",
       "\n",
       "    .dataframe thead th {\n",
       "        text-align: right;\n",
       "    }\n",
       "</style>\n",
       "<table border=\"1\" class=\"dataframe\">\n",
       "  <thead>\n",
       "    <tr style=\"text-align: right;\">\n",
       "      <th></th>\n",
       "      <th>id</th>\n",
       "      <th>headline</th>\n",
       "      <th>writer</th>\n",
       "      <th>url</th>\n",
       "      <th>content</th>\n",
       "      <th>created_date</th>\n",
       "      <th>press_id</th>\n",
       "      <th>section_id</th>\n",
       "    </tr>\n",
       "  </thead>\n",
       "  <tbody>\n",
       "    <tr>\n",
       "      <th>0</th>\n",
       "      <td>0</td>\n",
       "      <td>“도발적 언행”…외교부, 중국대사 초치</td>\n",
       "      <td>박은경 기자</td>\n",
       "      <td>https://n.news.naver.com/article/032/000322896...</td>\n",
       "      <td>“한·중 우호에 역행” 강한 유감외교부는 9일 싱하이밍 주한 중국대사를 초치하고, ...</td>\n",
       "      <td>2023-06-09 21:28:03</td>\n",
       "      <td>032</td>\n",
       "      <td>100</td>\n",
       "    </tr>\n",
       "    <tr>\n",
       "      <th>1</th>\n",
       "      <td>1</td>\n",
       "      <td>여당 “중국대사 내정간섭”…야당 “정부 혼자 중국과 싸우나”</td>\n",
       "      <td>정대연 기자</td>\n",
       "      <td>https://n.news.naver.com/article/032/000322896...</td>\n",
       "      <td>정부·여당 ‘베팅’ 발언 강경 대응…김기현은 싱 대사 만찬 보이콧이재명 대표는 “경...</td>\n",
       "      <td>2023-06-09 21:28:01</td>\n",
       "      <td>032</td>\n",
       "      <td>100</td>\n",
       "    </tr>\n",
       "    <tr>\n",
       "      <th>2</th>\n",
       "      <td>2</td>\n",
       "      <td>태영호 빈자리에 호남·40대 김가람</td>\n",
       "      <td>이두리 기자</td>\n",
       "      <td>https://n.news.naver.com/article/032/000322896...</td>\n",
       "      <td>최고위원 보선 70% 득표 당선김가람 국민의힘 최고위원(왼쪽)이 9일 국회에서 열린...</td>\n",
       "      <td>2023-06-09 21:27:04</td>\n",
       "      <td>032</td>\n",
       "      <td>100</td>\n",
       "    </tr>\n",
       "    <tr>\n",
       "      <th>3</th>\n",
       "      <td>3</td>\n",
       "      <td>민주당 혁신위원장 ‘인물난’…유인태·원혜영 등 물망</td>\n",
       "      <td>김윤나영 기자</td>\n",
       "      <td>https://n.news.naver.com/article/032/000322896...</td>\n",
       "      <td>후보 추천…대다수 내부 인사“무게감 있는 외부 인사 안 보여”이재명 더불어민주당 대...</td>\n",
       "      <td>2023-06-09 21:27:02</td>\n",
       "      <td>032</td>\n",
       "      <td>100</td>\n",
       "    </tr>\n",
       "    <tr>\n",
       "      <th>4</th>\n",
       "      <td>4</td>\n",
       "      <td>전현희 비위 혐의 ‘처분 요구’ 않으면서 ‘확인 내용’은 적시한 감사원</td>\n",
       "      <td>조문희 기자</td>\n",
       "      <td>https://n.news.naver.com/article/032/000322896...</td>\n",
       "      <td>전 위원장 “표적감사” 반발국민권익위원회를 직무감찰한 감사원이 9일 전현희 권익위원...</td>\n",
       "      <td>2023-06-09 21:21:16</td>\n",
       "      <td>032</td>\n",
       "      <td>100</td>\n",
       "    </tr>\n",
       "  </tbody>\n",
       "</table>\n",
       "</div>"
      ],
      "text/plain": [
       "   id                                 headline   writer  \\\n",
       "0   0                    “도발적 언행”…외교부, 중국대사 초치   박은경 기자   \n",
       "1   1        여당 “중국대사 내정간섭”…야당 “정부 혼자 중국과 싸우나”   정대연 기자   \n",
       "2   2                      태영호 빈자리에 호남·40대 김가람   이두리 기자   \n",
       "3   3             민주당 혁신위원장 ‘인물난’…유인태·원혜영 등 물망  김윤나영 기자   \n",
       "4   4  전현희 비위 혐의 ‘처분 요구’ 않으면서 ‘확인 내용’은 적시한 감사원   조문희 기자   \n",
       "\n",
       "                                                 url  \\\n",
       "0  https://n.news.naver.com/article/032/000322896...   \n",
       "1  https://n.news.naver.com/article/032/000322896...   \n",
       "2  https://n.news.naver.com/article/032/000322896...   \n",
       "3  https://n.news.naver.com/article/032/000322896...   \n",
       "4  https://n.news.naver.com/article/032/000322896...   \n",
       "\n",
       "                                             content         created_date  \\\n",
       "0  “한·중 우호에 역행” 강한 유감외교부는 9일 싱하이밍 주한 중국대사를 초치하고, ...  2023-06-09 21:28:03   \n",
       "1  정부·여당 ‘베팅’ 발언 강경 대응…김기현은 싱 대사 만찬 보이콧이재명 대표는 “경...  2023-06-09 21:28:01   \n",
       "2  최고위원 보선 70% 득표 당선김가람 국민의힘 최고위원(왼쪽)이 9일 국회에서 열린...  2023-06-09 21:27:04   \n",
       "3  후보 추천…대다수 내부 인사“무게감 있는 외부 인사 안 보여”이재명 더불어민주당 대...  2023-06-09 21:27:02   \n",
       "4  전 위원장 “표적감사” 반발국민권익위원회를 직무감찰한 감사원이 9일 전현희 권익위원...  2023-06-09 21:21:16   \n",
       "\n",
       "  press_id section_id  \n",
       "0      032        100  \n",
       "1      032        100  \n",
       "2      032        100  \n",
       "3      032        100  \n",
       "4      032        100  "
      ]
     },
     "execution_count": 25,
     "metadata": {},
     "output_type": "execute_result"
    }
   ],
   "source": [
    "df.head()"
   ]
  },
  {
   "cell_type": "markdown",
   "id": "bronze-envelope",
   "metadata": {},
   "source": [
    "1. Media 분포 <br>\n",
    "총 10개의 Media로 부터 데이터가 구성되어있습니다. "
   ]
  },
  {
   "cell_type": "code",
   "execution_count": 26,
   "id": "alternative-theater",
   "metadata": {},
   "outputs": [],
   "source": [
    "df['press_id'] = df['press_id'].map({'032':'경향신문',\n",
    "                                    '005':'국민일보',\n",
    "                                    '020':'동아일보',\n",
    "                                    '021':'문화일보',\n",
    "                                    '081':'서울신문',\n",
    "                                    '022':'세계일보',\n",
    "                                    '023':'조선일보',\n",
    "                                    '025':'중앙일보',\n",
    "                                    '028':'한겨례',\n",
    "                                    '469':'한국일보'})"
   ]
  },
  {
   "cell_type": "code",
   "execution_count": 27,
   "id": "weekly-butterfly",
   "metadata": {},
   "outputs": [
    {
     "data": {
      "text/html": [
       "<div>\n",
       "<style scoped>\n",
       "    .dataframe tbody tr th:only-of-type {\n",
       "        vertical-align: middle;\n",
       "    }\n",
       "\n",
       "    .dataframe tbody tr th {\n",
       "        vertical-align: top;\n",
       "    }\n",
       "\n",
       "    .dataframe thead th {\n",
       "        text-align: right;\n",
       "    }\n",
       "</style>\n",
       "<table border=\"1\" class=\"dataframe\">\n",
       "  <thead>\n",
       "    <tr style=\"text-align: right;\">\n",
       "      <th></th>\n",
       "      <th>press_id</th>\n",
       "    </tr>\n",
       "  </thead>\n",
       "  <tbody>\n",
       "    <tr>\n",
       "      <th>문화일보</th>\n",
       "      <td>98</td>\n",
       "    </tr>\n",
       "    <tr>\n",
       "      <th>중앙일보</th>\n",
       "      <td>92</td>\n",
       "    </tr>\n",
       "    <tr>\n",
       "      <th>국민일보</th>\n",
       "      <td>92</td>\n",
       "    </tr>\n",
       "    <tr>\n",
       "      <th>세계일보</th>\n",
       "      <td>86</td>\n",
       "    </tr>\n",
       "    <tr>\n",
       "      <th>한국일보</th>\n",
       "      <td>80</td>\n",
       "    </tr>\n",
       "    <tr>\n",
       "      <th>서울신문</th>\n",
       "      <td>77</td>\n",
       "    </tr>\n",
       "    <tr>\n",
       "      <th>경향신문</th>\n",
       "      <td>69</td>\n",
       "    </tr>\n",
       "    <tr>\n",
       "      <th>동아일보</th>\n",
       "      <td>66</td>\n",
       "    </tr>\n",
       "    <tr>\n",
       "      <th>한겨례</th>\n",
       "      <td>63</td>\n",
       "    </tr>\n",
       "    <tr>\n",
       "      <th>조선일보</th>\n",
       "      <td>59</td>\n",
       "    </tr>\n",
       "  </tbody>\n",
       "</table>\n",
       "</div>"
      ],
      "text/plain": [
       "      press_id\n",
       "문화일보        98\n",
       "중앙일보        92\n",
       "국민일보        92\n",
       "세계일보        86\n",
       "한국일보        80\n",
       "서울신문        77\n",
       "경향신문        69\n",
       "동아일보        66\n",
       "한겨례         63\n",
       "조선일보        59"
      ]
     },
     "execution_count": 27,
     "metadata": {},
     "output_type": "execute_result"
    }
   ],
   "source": [
    "pd.DataFrame(df['press_id'].value_counts())"
   ]
  },
  {
   "cell_type": "markdown",
   "id": "cardiac-marshall",
   "metadata": {},
   "source": [
    "원문(Article Original) <br>\n",
    "Sentence Tokenzing 과정을 통하여 문장단위로 분리 후 분석"
   ]
  },
  {
   "cell_type": "code",
   "execution_count": 5,
   "id": "crude-budapest",
   "metadata": {},
   "outputs": [],
   "source": [
    "# import nltk\n",
    "# nltk.download('punkt')"
   ]
  },
  {
   "cell_type": "code",
   "execution_count": 6,
   "id": "fourth-proposition",
   "metadata": {},
   "outputs": [],
   "source": [
    "# from nltk.tokenize import sent_tokenize\n",
    "# para = df['content'][1]\n",
    "# sent_tokenize(para)\n",
    "# #잘안됨..."
   ]
  },
  {
   "cell_type": "code",
   "execution_count": 19,
   "id": "silent-watch",
   "metadata": {},
   "outputs": [
    {
     "data": {
      "text/plain": [
       "23"
      ]
     },
     "execution_count": 19,
     "metadata": {},
     "output_type": "execute_result"
    }
   ],
   "source": [
    "len(df['content'][1].split('.'))"
   ]
  },
  {
   "cell_type": "code",
   "execution_count": 20,
   "id": "vertical-hobby",
   "metadata": {},
   "outputs": [
    {
     "data": {
      "text/plain": [
       "782"
      ]
     },
     "execution_count": 20,
     "metadata": {},
     "output_type": "execute_result"
    }
   ],
   "source": [
    "len(df['content'])"
   ]
  },
  {
   "cell_type": "code",
   "execution_count": 9,
   "id": "unique-advertising",
   "metadata": {},
   "outputs": [
    {
     "ename": "NameError",
     "evalue": "name 'original_sent_counts' is not defined",
     "output_type": "error",
     "traceback": [
      "\u001b[0;31m---------------------------------------------------------------------------\u001b[0m",
      "\u001b[0;31mNameError\u001b[0m                                 Traceback (most recent call last)",
      "\u001b[0;32m<ipython-input-9-1b3b1d7a1734>\u001b[0m in \u001b[0;36m<module>\u001b[0;34m()\u001b[0m\n\u001b[0;32m----> 1\u001b[0;31m \u001b[0mpd\u001b[0m\u001b[0;34m.\u001b[0m\u001b[0mDataFrame\u001b[0m\u001b[0;34m(\u001b[0m\u001b[0moriginal_sent_counts\u001b[0m\u001b[0;34m)\u001b[0m\u001b[0;34m.\u001b[0m\u001b[0mvalue_counts\u001b[0m\u001b[0;34m(\u001b[0m\u001b[0;34m)\u001b[0m\u001b[0;34m\u001b[0m\u001b[0;34m\u001b[0m\u001b[0m\n\u001b[0m",
      "\u001b[0;31mNameError\u001b[0m: name 'original_sent_counts' is not defined"
     ]
    }
   ],
   "source": [
    "pd.DataFrame(original_sent_counts).value_counts()"
   ]
  },
  {
   "cell_type": "code",
   "execution_count": 28,
   "id": "healthy-brass",
   "metadata": {},
   "outputs": [
    {
     "data": {
      "text/plain": [
       "<AxesSubplot:>"
      ]
     },
     "execution_count": 28,
     "metadata": {},
     "output_type": "execute_result"
    },
    {
     "data": {
      "image/png": "[encoded data removed]",
      "text/plain": [
       "<Figure size 1152x432 with 2 Axes>"
      ]
     },
     "metadata": {},
     "output_type": "display_data"
    }
   ],
   "source": [
    "# sentence_원문\n",
    "original_sent_counts = []\n",
    "for i in range(len(df['content'])):\n",
    "    original_sent_counts.append(len(df['content'][i].split('.')))\n",
    "    \n",
    "fig, axs = plt.subplots(1, 2, figsize=(16, 6), gridspec_kw=dict(width_ratios=[4, 3]))\n",
    "sns.histplot(original_sent_counts, binwidth=1, ax=axs[0])\n",
    "sns.boxplot(original_sent_counts, ax=axs[1])\n"
   ]
  },
  {
   "cell_type": "code",
   "execution_count": 38,
   "id": "contained-enzyme",
   "metadata": {},
   "outputs": [
    {
     "data": {
      "text/plain": [
       "<AxesSubplot:>"
      ]
     },
     "execution_count": 38,
     "metadata": {},
     "output_type": "execute_result"
    },
    {
     "data": {
      "image/png": "[encoded data removed]",
      "text/plain": [
       "<Figure size 1152x432 with 2 Axes>"
      ]
     },
     "metadata": {},
     "output_type": "display_data"
    }
   ],
   "source": [
    "# sentence_요약문\n",
    "summary_sent_counts = []\n",
    "\n",
    "for i in range(len(df_s['content'])):\n",
    "    summary_sent_counts.append(len(df_s['content'][i].split('.')))\n",
    "    \n",
    "fig, axs = plt.subplots(1, 2, figsize=(16, 6), gridspec_kw=dict(width_ratios=[4, 3]))\n",
    "sns.histplot(summary_sent_counts, binwidth=1, ax=axs[0])\n",
    "sns.boxplot(summary_sent_counts, ax=axs[1])"
   ]
  },
  {
   "cell_type": "code",
   "execution_count": 29,
   "id": "round-testament",
   "metadata": {},
   "outputs": [
    {
     "data": {
      "text/html": [
       "<div>\n",
       "<style scoped>\n",
       "    .dataframe tbody tr th:only-of-type {\n",
       "        vertical-align: middle;\n",
       "    }\n",
       "\n",
       "    .dataframe tbody tr th {\n",
       "        vertical-align: top;\n",
       "    }\n",
       "\n",
       "    .dataframe thead th {\n",
       "        text-align: right;\n",
       "    }\n",
       "</style>\n",
       "<table border=\"1\" class=\"dataframe\">\n",
       "  <thead>\n",
       "    <tr style=\"text-align: right;\">\n",
       "      <th></th>\n",
       "      <th>0</th>\n",
       "    </tr>\n",
       "  </thead>\n",
       "  <tbody>\n",
       "    <tr>\n",
       "      <th>count</th>\n",
       "      <td>782.000000</td>\n",
       "    </tr>\n",
       "    <tr>\n",
       "      <th>mean</th>\n",
       "      <td>21.191816</td>\n",
       "    </tr>\n",
       "    <tr>\n",
       "      <th>std</th>\n",
       "      <td>14.944337</td>\n",
       "    </tr>\n",
       "    <tr>\n",
       "      <th>min</th>\n",
       "      <td>3.000000</td>\n",
       "    </tr>\n",
       "    <tr>\n",
       "      <th>25%</th>\n",
       "      <td>12.000000</td>\n",
       "    </tr>\n",
       "    <tr>\n",
       "      <th>50%</th>\n",
       "      <td>18.000000</td>\n",
       "    </tr>\n",
       "    <tr>\n",
       "      <th>75%</th>\n",
       "      <td>25.000000</td>\n",
       "    </tr>\n",
       "    <tr>\n",
       "      <th>max</th>\n",
       "      <td>129.000000</td>\n",
       "    </tr>\n",
       "  </tbody>\n",
       "</table>\n",
       "</div>"
      ],
      "text/plain": [
       "                0\n",
       "count  782.000000\n",
       "mean    21.191816\n",
       "std     14.944337\n",
       "min      3.000000\n",
       "25%     12.000000\n",
       "50%     18.000000\n",
       "75%     25.000000\n",
       "max    129.000000"
      ]
     },
     "execution_count": 29,
     "metadata": {},
     "output_type": "execute_result"
    }
   ],
   "source": [
    "pd.DataFrame(original_sent_counts).describe()"
   ]
  },
  {
   "cell_type": "code",
   "execution_count": 40,
   "id": "superior-thursday",
   "metadata": {},
   "outputs": [
    {
     "data": {
      "text/html": [
       "<div>\n",
       "<style scoped>\n",
       "    .dataframe tbody tr th:only-of-type {\n",
       "        vertical-align: middle;\n",
       "    }\n",
       "\n",
       "    .dataframe tbody tr th {\n",
       "        vertical-align: top;\n",
       "    }\n",
       "\n",
       "    .dataframe thead th {\n",
       "        text-align: right;\n",
       "    }\n",
       "</style>\n",
       "<table border=\"1\" class=\"dataframe\">\n",
       "  <thead>\n",
       "    <tr style=\"text-align: right;\">\n",
       "      <th></th>\n",
       "      <th>0</th>\n",
       "    </tr>\n",
       "  </thead>\n",
       "  <tbody>\n",
       "    <tr>\n",
       "      <th>count</th>\n",
       "      <td>782.000000</td>\n",
       "    </tr>\n",
       "    <tr>\n",
       "      <th>mean</th>\n",
       "      <td>2.179028</td>\n",
       "    </tr>\n",
       "    <tr>\n",
       "      <th>std</th>\n",
       "      <td>0.599761</td>\n",
       "    </tr>\n",
       "    <tr>\n",
       "      <th>min</th>\n",
       "      <td>2.000000</td>\n",
       "    </tr>\n",
       "    <tr>\n",
       "      <th>25%</th>\n",
       "      <td>2.000000</td>\n",
       "    </tr>\n",
       "    <tr>\n",
       "      <th>50%</th>\n",
       "      <td>2.000000</td>\n",
       "    </tr>\n",
       "    <tr>\n",
       "      <th>75%</th>\n",
       "      <td>2.000000</td>\n",
       "    </tr>\n",
       "    <tr>\n",
       "      <th>max</th>\n",
       "      <td>9.000000</td>\n",
       "    </tr>\n",
       "  </tbody>\n",
       "</table>\n",
       "</div>"
      ],
      "text/plain": [
       "                0\n",
       "count  782.000000\n",
       "mean     2.179028\n",
       "std      0.599761\n",
       "min      2.000000\n",
       "25%      2.000000\n",
       "50%      2.000000\n",
       "75%      2.000000\n",
       "max      9.000000"
      ]
     },
     "execution_count": 40,
     "metadata": {},
     "output_type": "execute_result"
    }
   ],
   "source": [
    "pd.DataFrame(summary_sent_counts).describe()"
   ]
  },
  {
   "cell_type": "code",
   "execution_count": 48,
   "id": "advance-migration",
   "metadata": {},
   "outputs": [
    {
     "data": {
      "text/plain": [
       "<AxesSubplot:>"
      ]
     },
     "execution_count": 48,
     "metadata": {},
     "output_type": "execute_result"
    },
    {
     "data": {
      "image/png": "[encoded data removed]",
      "text/plain": [
       "<Figure size 1152x432 with 2 Axes>"
      ]
     },
     "metadata": {},
     "output_type": "display_data"
    }
   ],
   "source": [
    "# word 수\n",
    "\n",
    "original_word_counts = []\n",
    "for i in range(len(df['content'])):\n",
    "    original_word_counts.append(len(df['content'][i].split(' ')))\n",
    "    \n",
    "fig, axs = plt.subplots(1, 2, figsize=(16, 6), gridspec_kw=dict(width_ratios=[4, 3]))\n",
    "sns.histplot(original_word_counts, binwidth=1, ax=axs[0])\n",
    "sns.boxplot(original_word_counts, ax=axs[1])\n"
   ]
  },
  {
   "cell_type": "code",
   "execution_count": 45,
   "id": "written-combination",
   "metadata": {},
   "outputs": [
    {
     "data": {
      "text/plain": [
       "<AxesSubplot:>"
      ]
     },
     "execution_count": 45,
     "metadata": {},
     "output_type": "execute_result"
    },
    {
     "data": {
      "image/png": "[encoded data removed]",
      "text/plain": [
       "<Figure size 1152x432 with 2 Axes>"
      ]
     },
     "metadata": {},
     "output_type": "display_data"
    }
   ],
   "source": [
    "# word 수_요약문\n",
    "\n",
    "\n",
    "summary_word_counts = []\n",
    "for i in range(len(df_s['content'])):\n",
    "    summary_word_counts.append(len(df_s['content'][i].split(' ')))\n",
    "    \n",
    "fig, axs = plt.subplots(1, 2, figsize=(16, 6), gridspec_kw=dict(width_ratios=[4, 3]))\n",
    "sns.histplot(summary_word_counts, binwidth=1, ax=axs[0])\n",
    "sns.boxplot(summary_word_counts, ax=axs[1])\n"
   ]
  },
  {
   "cell_type": "code",
   "execution_count": 49,
   "id": "norwegian-korean",
   "metadata": {},
   "outputs": [
    {
     "data": {
      "text/html": [
       "<div>\n",
       "<style scoped>\n",
       "    .dataframe tbody tr th:only-of-type {\n",
       "        vertical-align: middle;\n",
       "    }\n",
       "\n",
       "    .dataframe tbody tr th {\n",
       "        vertical-align: top;\n",
       "    }\n",
       "\n",
       "    .dataframe thead th {\n",
       "        text-align: right;\n",
       "    }\n",
       "</style>\n",
       "<table border=\"1\" class=\"dataframe\">\n",
       "  <thead>\n",
       "    <tr style=\"text-align: right;\">\n",
       "      <th></th>\n",
       "      <th>0</th>\n",
       "    </tr>\n",
       "  </thead>\n",
       "  <tbody>\n",
       "    <tr>\n",
       "      <th>count</th>\n",
       "      <td>782.000000</td>\n",
       "    </tr>\n",
       "    <tr>\n",
       "      <th>mean</th>\n",
       "      <td>305.814578</td>\n",
       "    </tr>\n",
       "    <tr>\n",
       "      <th>std</th>\n",
       "      <td>186.348352</td>\n",
       "    </tr>\n",
       "    <tr>\n",
       "      <th>min</th>\n",
       "      <td>24.000000</td>\n",
       "    </tr>\n",
       "    <tr>\n",
       "      <th>25%</th>\n",
       "      <td>185.000000</td>\n",
       "    </tr>\n",
       "    <tr>\n",
       "      <th>50%</th>\n",
       "      <td>263.000000</td>\n",
       "    </tr>\n",
       "    <tr>\n",
       "      <th>75%</th>\n",
       "      <td>368.750000</td>\n",
       "    </tr>\n",
       "    <tr>\n",
       "      <th>max</th>\n",
       "      <td>1314.000000</td>\n",
       "    </tr>\n",
       "  </tbody>\n",
       "</table>\n",
       "</div>"
      ],
      "text/plain": [
       "                 0\n",
       "count   782.000000\n",
       "mean    305.814578\n",
       "std     186.348352\n",
       "min      24.000000\n",
       "25%     185.000000\n",
       "50%     263.000000\n",
       "75%     368.750000\n",
       "max    1314.000000"
      ]
     },
     "execution_count": 49,
     "metadata": {},
     "output_type": "execute_result"
    }
   ],
   "source": [
    "pd.DataFrame(original_word_counts).describe()"
   ]
  },
  {
   "cell_type": "code",
   "execution_count": 50,
   "id": "sunset-modem",
   "metadata": {},
   "outputs": [
    {
     "data": {
      "text/html": [
       "<div>\n",
       "<style scoped>\n",
       "    .dataframe tbody tr th:only-of-type {\n",
       "        vertical-align: middle;\n",
       "    }\n",
       "\n",
       "    .dataframe tbody tr th {\n",
       "        vertical-align: top;\n",
       "    }\n",
       "\n",
       "    .dataframe thead th {\n",
       "        text-align: right;\n",
       "    }\n",
       "</style>\n",
       "<table border=\"1\" class=\"dataframe\">\n",
       "  <thead>\n",
       "    <tr style=\"text-align: right;\">\n",
       "      <th></th>\n",
       "      <th>0</th>\n",
       "    </tr>\n",
       "  </thead>\n",
       "  <tbody>\n",
       "    <tr>\n",
       "      <th>count</th>\n",
       "      <td>782.000000</td>\n",
       "    </tr>\n",
       "    <tr>\n",
       "      <th>mean</th>\n",
       "      <td>31.599744</td>\n",
       "    </tr>\n",
       "    <tr>\n",
       "      <th>std</th>\n",
       "      <td>9.026049</td>\n",
       "    </tr>\n",
       "    <tr>\n",
       "      <th>min</th>\n",
       "      <td>13.000000</td>\n",
       "    </tr>\n",
       "    <tr>\n",
       "      <th>25%</th>\n",
       "      <td>26.000000</td>\n",
       "    </tr>\n",
       "    <tr>\n",
       "      <th>50%</th>\n",
       "      <td>29.500000</td>\n",
       "    </tr>\n",
       "    <tr>\n",
       "      <th>75%</th>\n",
       "      <td>35.000000</td>\n",
       "    </tr>\n",
       "    <tr>\n",
       "      <th>max</th>\n",
       "      <td>108.000000</td>\n",
       "    </tr>\n",
       "  </tbody>\n",
       "</table>\n",
       "</div>"
      ],
      "text/plain": [
       "                0\n",
       "count  782.000000\n",
       "mean    31.599744\n",
       "std      9.026049\n",
       "min     13.000000\n",
       "25%     26.000000\n",
       "50%     29.500000\n",
       "75%     35.000000\n",
       "max    108.000000"
      ]
     },
     "execution_count": 50,
     "metadata": {},
     "output_type": "execute_result"
    }
   ],
   "source": [
    "pd.DataFrame(summary_word_counts).describe()"
   ]
  },
  {
   "cell_type": "markdown",
   "id": "extra-customs",
   "metadata": {},
   "source": [
    "본문의 길이는 평균 22문장 및 308개 정도의 단어로 구성되어 있습니다.\n",
    "이는 기존 summary task에서 많이 쓰이는 CNN(평균 34문장, 760단어)이나 DailyMail(평균 29문장, 653단어) 같은 데이터와 비교했을 때 상당히 길이가 적은 편에 속한다고 할 수 있습니다.\n",
    "\n"
   ]
  },
  {
   "cell_type": "markdown",
   "id": "assisted-colors",
   "metadata": {},
   "source": [
    "생성요약 정답, 추출요약정답\n",
    "https://dacon.io/competitions/open/235671/codeshare/2006"
   ]
  },
  {
   "cell_type": "markdown",
   "id": "simplified-anatomy",
   "metadata": {},
   "source": [
    "# N-Gram"
   ]
  },
  {
   "cell_type": "code",
   "execution_count": 6,
   "id": "outside-center",
   "metadata": {},
   "outputs": [],
   "source": [
    "df_o = pd.read_csv('/home/lab01/News_'+today+'.csv',dtype= {'press_id': 'object', 'section_id': 'object'})\n",
    "df_s = pd.read_csv('/home/lab01/News_s'+today+'.csv',dtype= {'press_id': 'object', 'section_id': 'object'})\n",
    "\n",
    "df_o = df_o['content'] \n",
    "df_s = df_s['content'] "
   ]
  },
  {
   "cell_type": "code",
   "execution_count": 10,
   "id": "magnetic-matthew",
   "metadata": {},
   "outputs": [
    {
     "data": {
      "text/plain": [
       "'더불어민주당 혁신기구 책임자로 임명된 이래경 사단법인 다른백년 이사장이 지난 2월16일 사회관계망서비스에 올린 글. 이 이사장 페이스북 캡처이상민 더불어민주당 의원이 당 혁신위원장으로 선임된 지 9시간 만에 낙마한 이래경 사단법인 다른백년 명예이사장 사태와 관련해 7일 “이재명 대표 스스로 퇴진하는 것이 저는 맞다고 본다”고 말했다.이 의원은 이날 KBS 라디오 ‘최경영의 최강시사’에서 “아무리 혁신위를 구성한다고 할지라도 이번에 드러났듯이 (이 대표가) 자기 쪽에 기운 사람을 하지 않겠냐. 그건 본능에 가까운 것”이라며 이같이 말했다.이 의원은 “민주당의 위기를 극복할 어떤 혁신위를 구성하는 데 초장부터 완전히 어긋났다고 하는데 이런 일이 국무총리나 장관한테 일어났다고 하면 우리 당이 어떻겠나?  ‘인사 참사 났다’고 그런다. 윤석열 정부에서 일어났다면 ‘대통령이 책임지라고 하고 당장 물러나라’고 하지 않겠냐”며 “이런 잣대를 우리한테 돌려서 보면 우리도 (민주당도) 일반 민심의, 국민의 눈높이에서 한심하다는 평가를 받을 것”이라고 말했다.이 의원은 이래경 이사장이 혁신기구 수장으로 선임된 과정을 두고도 “논의 과정은 완전히 깜깜이”라며 각을 세웠다. 그는 “언론 보도에서도 최고위원들조차 발표 전날 저녁 식사 자리에서 이 대표한테 전해 들었다는 이야기이고, 본인(이 이사장)도 그 전날 통보받았다고 한다”며 “얼마나 폐쇄적이고 아주 몇몇 사람들 중심으로만, 160석 구성을 가진 제1당의 의사결정이 엉망진창이다.”라고 했다.이 의원은 이 대표와 관련해 “돈 봉투 사건이나 최측근 김남국 의원 코인 건에서도 매우 부적절한 대응을 한 한계가 있다”며 “이를 제거하려면 이 대표 스스로가 퇴진하는 것이 맞다고 보는 것”이라고 말했다.'"
      ]
     },
     "execution_count": 10,
     "metadata": {},
     "output_type": "execute_result"
    }
   ],
   "source": [
    "df_o[0]"
   ]
  },
  {
   "cell_type": "code",
   "execution_count": 72,
   "id": "assured-russell",
   "metadata": {},
   "outputs": [
    {
     "data": {
      "text/plain": [
       "128"
      ]
     },
     "execution_count": 72,
     "metadata": {},
     "output_type": "execute_result"
    }
   ],
   "source": [
    "len(df_s[0])"
   ]
  },
  {
   "cell_type": "markdown",
   "id": "occupied-flexibility",
   "metadata": {},
   "source": [
    "## 요약문장 글자 수 길이 분포를 인덱스화하여 빈도수 체크"
   ]
  },
  {
   "cell_type": "code",
   "execution_count": 204,
   "id": "advised-china",
   "metadata": {},
   "outputs": [
    {
     "data": {
      "text/plain": [
       "Counter({865: 1,\n",
       "         1189: 1,\n",
       "         531: 1,\n",
       "         870: 3,\n",
       "         1998: 1,\n",
       "         1757: 2,\n",
       "         2593: 1,\n",
       "         1106: 2,\n",
       "         738: 2,\n",
       "         2467: 1,\n",
       "         2180: 1,\n",
       "         1025: 1,\n",
       "         1995: 1,\n",
       "         1231: 2,\n",
       "         1060: 1,\n",
       "         1244: 1,\n",
       "         1345: 1,\n",
       "         860: 4,\n",
       "         1094: 1,\n",
       "         1194: 1,\n",
       "         715: 1,\n",
       "         747: 2,\n",
       "         743: 1,\n",
       "         1034: 1,\n",
       "         496: 1,\n",
       "         957: 3,\n",
       "         907: 2,\n",
       "         1122: 2,\n",
       "         1347: 1,\n",
       "         785: 1,\n",
       "         914: 2,\n",
       "         1445: 1,\n",
       "         2326: 1,\n",
       "         832: 1,\n",
       "         919: 1,\n",
       "         984: 1,\n",
       "         368: 1,\n",
       "         959: 3,\n",
       "         490: 1,\n",
       "         662: 1,\n",
       "         1129: 1,\n",
       "         668: 2,\n",
       "         825: 1,\n",
       "         1013: 1,\n",
       "         1845: 2,\n",
       "         877: 1,\n",
       "         1504: 1,\n",
       "         2169: 1,\n",
       "         896: 1,\n",
       "         1783: 1,\n",
       "         1969: 1,\n",
       "         2582: 1,\n",
       "         1342: 2,\n",
       "         1669: 1,\n",
       "         1907: 1,\n",
       "         1619: 1,\n",
       "         2259: 1,\n",
       "         1137: 4,\n",
       "         1206: 2,\n",
       "         1441: 1,\n",
       "         850: 1,\n",
       "         1469: 1,\n",
       "         1049: 1,\n",
       "         732: 1,\n",
       "         1202: 2,\n",
       "         1295: 3,\n",
       "         1238: 1,\n",
       "         1574: 1,\n",
       "         1215: 2,\n",
       "         1624: 1,\n",
       "         1485: 2,\n",
       "         1197: 2,\n",
       "         1482: 1,\n",
       "         1241: 1,\n",
       "         1268: 2,\n",
       "         1558: 1,\n",
       "         1604: 1,\n",
       "         847: 1,\n",
       "         1210: 2,\n",
       "         1625: 1,\n",
       "         1636: 1,\n",
       "         1518: 2,\n",
       "         1658: 1,\n",
       "         1517: 1,\n",
       "         1053: 3,\n",
       "         994: 1,\n",
       "         1205: 1,\n",
       "         1258: 1,\n",
       "         1266: 2,\n",
       "         1277: 2,\n",
       "         1484: 1,\n",
       "         1664: 1,\n",
       "         1633: 1,\n",
       "         1214: 1,\n",
       "         868: 3,\n",
       "         1276: 1,\n",
       "         1280: 1,\n",
       "         1290: 1,\n",
       "         464: 1,\n",
       "         768: 1,\n",
       "         1070: 1,\n",
       "         170: 1,\n",
       "         1001: 1,\n",
       "         1889: 1,\n",
       "         608: 1,\n",
       "         698: 1,\n",
       "         866: 2,\n",
       "         805: 2,\n",
       "         1785: 1,\n",
       "         707: 1,\n",
       "         1218: 1,\n",
       "         1261: 1,\n",
       "         1373: 1,\n",
       "         817: 2,\n",
       "         811: 2,\n",
       "         1233: 1,\n",
       "         1803: 1,\n",
       "         762: 1,\n",
       "         1483: 1,\n",
       "         1245: 3,\n",
       "         924: 4,\n",
       "         1437: 1,\n",
       "         1497: 1,\n",
       "         1227: 1,\n",
       "         888: 1,\n",
       "         1352: 1,\n",
       "         705: 1,\n",
       "         1074: 1,\n",
       "         1765: 2,\n",
       "         358: 1,\n",
       "         813: 1,\n",
       "         1451: 1,\n",
       "         1270: 3,\n",
       "         646: 2,\n",
       "         1736: 1,\n",
       "         1107: 1,\n",
       "         1356: 1,\n",
       "         1257: 2,\n",
       "         1322: 1,\n",
       "         745: 1,\n",
       "         1078: 1,\n",
       "         2170: 1,\n",
       "         1458: 1,\n",
       "         708: 2,\n",
       "         1865: 1,\n",
       "         596: 2,\n",
       "         443: 1,\n",
       "         1255: 2,\n",
       "         880: 1,\n",
       "         1083: 1,\n",
       "         2125: 1,\n",
       "         1301: 1,\n",
       "         951: 1,\n",
       "         637: 2,\n",
       "         736: 2,\n",
       "         3202: 1,\n",
       "         3398: 1,\n",
       "         905: 1,\n",
       "         2257: 1,\n",
       "         1430: 1,\n",
       "         1824: 1,\n",
       "         1397: 1,\n",
       "         1578: 1,\n",
       "         912: 1,\n",
       "         690: 3,\n",
       "         769: 1,\n",
       "         779: 1,\n",
       "         620: 1,\n",
       "         222: 1,\n",
       "         1931: 1,\n",
       "         1146: 1,\n",
       "         1274: 1,\n",
       "         577: 1,\n",
       "         579: 1,\n",
       "         468: 1,\n",
       "         700: 1,\n",
       "         2223: 1,\n",
       "         1292: 1,\n",
       "         1084: 1,\n",
       "         930: 1,\n",
       "         923: 2,\n",
       "         2277: 1,\n",
       "         901: 1,\n",
       "         1144: 2,\n",
       "         3328: 1,\n",
       "         1209: 1,\n",
       "         1859: 1,\n",
       "         1306: 1,\n",
       "         764: 1,\n",
       "         885: 2,\n",
       "         630: 1,\n",
       "         2392: 2,\n",
       "         606: 1,\n",
       "         1273: 2,\n",
       "         639: 1,\n",
       "         1456: 1,\n",
       "         2046: 1,\n",
       "         801: 2,\n",
       "         1103: 2,\n",
       "         1109: 1,\n",
       "         981: 1,\n",
       "         321: 1,\n",
       "         1147: 1,\n",
       "         831: 2,\n",
       "         723: 2,\n",
       "         1938: 1,\n",
       "         861: 1,\n",
       "         1188: 3,\n",
       "         859: 2,\n",
       "         3088: 2,\n",
       "         790: 1,\n",
       "         1043: 1,\n",
       "         812: 1,\n",
       "         1213: 2,\n",
       "         5256: 1,\n",
       "         1496: 1,\n",
       "         1439: 1,\n",
       "         3758: 1,\n",
       "         2516: 1,\n",
       "         2499: 1,\n",
       "         1010: 1,\n",
       "         794: 2,\n",
       "         437: 1,\n",
       "         709: 2,\n",
       "         879: 1,\n",
       "         989: 1,\n",
       "         359: 1,\n",
       "         536: 1,\n",
       "         1115: 1,\n",
       "         186: 1,\n",
       "         2147: 1,\n",
       "         1066: 1,\n",
       "         1514: 1,\n",
       "         808: 1,\n",
       "         894: 1,\n",
       "         815: 2,\n",
       "         621: 1,\n",
       "         2300: 1,\n",
       "         757: 1,\n",
       "         625: 1,\n",
       "         1672: 1,\n",
       "         601: 1,\n",
       "         729: 1,\n",
       "         499: 1,\n",
       "         327: 1,\n",
       "         985: 1,\n",
       "         1438: 2,\n",
       "         943: 2,\n",
       "         1449: 2,\n",
       "         1022: 1,\n",
       "         1409: 1,\n",
       "         778: 1,\n",
       "         1220: 1,\n",
       "         1062: 1,\n",
       "         1474: 4,\n",
       "         717: 1,\n",
       "         1285: 1,\n",
       "         993: 2,\n",
       "         555: 1,\n",
       "         966: 1,\n",
       "         1638: 1,\n",
       "         1311: 1,\n",
       "         4024: 1,\n",
       "         1560: 1,\n",
       "         735: 1,\n",
       "         2509: 1,\n",
       "         917: 1,\n",
       "         1076: 1,\n",
       "         897: 2,\n",
       "         1689: 1,\n",
       "         982: 1,\n",
       "         532: 2,\n",
       "         848: 1,\n",
       "         1196: 1,\n",
       "         581: 1,\n",
       "         1580: 2,\n",
       "         939: 1,\n",
       "         578: 1,\n",
       "         635: 1,\n",
       "         1291: 2,\n",
       "         1876: 1,\n",
       "         1464: 1,\n",
       "         1134: 1,\n",
       "         1250: 2,\n",
       "         1095: 1,\n",
       "         2524: 1,\n",
       "         2003: 1,\n",
       "         1328: 1,\n",
       "         725: 1,\n",
       "         1061: 1,\n",
       "         1777: 1,\n",
       "         1631: 1,\n",
       "         1702: 2,\n",
       "         1121: 3,\n",
       "         404: 1,\n",
       "         380: 1,\n",
       "         2442: 1,\n",
       "         1186: 1,\n",
       "         1673: 1,\n",
       "         882: 1,\n",
       "         1036: 1,\n",
       "         1128: 1,\n",
       "         873: 1,\n",
       "         1419: 1,\n",
       "         820: 1,\n",
       "         1846: 1,\n",
       "         1207: 1,\n",
       "         1408: 1,\n",
       "         1059: 2,\n",
       "         1327: 1,\n",
       "         2018: 1,\n",
       "         854: 1,\n",
       "         586: 2,\n",
       "         703: 1,\n",
       "         588: 2,\n",
       "         2503: 1,\n",
       "         213: 1,\n",
       "         509: 1,\n",
       "         1221: 1,\n",
       "         2589: 1,\n",
       "         1174: 1,\n",
       "         975: 1,\n",
       "         1248: 1,\n",
       "         892: 1,\n",
       "         1707: 1,\n",
       "         1222: 1,\n",
       "         1142: 1,\n",
       "         1407: 1,\n",
       "         2174: 1,\n",
       "         1055: 1,\n",
       "         340: 1,\n",
       "         438: 1,\n",
       "         613: 1,\n",
       "         1431: 1,\n",
       "         1164: 1,\n",
       "         1972: 1,\n",
       "         851: 1,\n",
       "         1588: 1,\n",
       "         992: 1,\n",
       "         1252: 2,\n",
       "         1432: 1,\n",
       "         2186: 1,\n",
       "         1475: 1,\n",
       "         1040: 1,\n",
       "         1457: 2,\n",
       "         798: 1,\n",
       "         1075: 1,\n",
       "         948: 2,\n",
       "         538: 1,\n",
       "         1593: 1,\n",
       "         2133: 1,\n",
       "         1773: 1,\n",
       "         1505: 1,\n",
       "         1924: 1,\n",
       "         1761: 1,\n",
       "         1263: 1,\n",
       "         1418: 1,\n",
       "         1486: 1,\n",
       "         799: 1,\n",
       "         2284: 1,\n",
       "         1525: 1,\n",
       "         1557: 1,\n",
       "         658: 2,\n",
       "         3872: 1,\n",
       "         412: 2,\n",
       "         657: 2,\n",
       "         592: 1,\n",
       "         1123: 2,\n",
       "         1170: 1,\n",
       "         692: 1,\n",
       "         348: 1,\n",
       "         727: 1,\n",
       "         667: 1,\n",
       "         1149: 1,\n",
       "         1126: 2,\n",
       "         788: 1,\n",
       "         2184: 1,\n",
       "         1031: 2,\n",
       "         107: 1,\n",
       "         580: 1,\n",
       "         1885: 1,\n",
       "         278: 1,\n",
       "         1100: 1,\n",
       "         711: 1,\n",
       "         946: 1,\n",
       "         6275: 1,\n",
       "         659: 1,\n",
       "         567: 1,\n",
       "         488: 1,\n",
       "         653: 1,\n",
       "         691: 1,\n",
       "         1659: 1,\n",
       "         1947: 1,\n",
       "         2546: 1,\n",
       "         802: 1,\n",
       "         734: 1,\n",
       "         1193: 1,\n",
       "         828: 1,\n",
       "         513: 1,\n",
       "         3522: 1,\n",
       "         675: 1,\n",
       "         1730: 1,\n",
       "         2303: 1,\n",
       "         2500: 1,\n",
       "         864: 1,\n",
       "         42: 1,\n",
       "         1695: 1,\n",
       "         37: 1,\n",
       "         1734: 1,\n",
       "         1683: 3,\n",
       "         2062: 1,\n",
       "         1006: 1,\n",
       "         1228: 2,\n",
       "         1374: 1,\n",
       "         1465: 1,\n",
       "         685: 1,\n",
       "         1403: 2,\n",
       "         1079: 1,\n",
       "         1096: 1,\n",
       "         4655: 1,\n",
       "         595: 1,\n",
       "         672: 1,\n",
       "         540: 1,\n",
       "         1047: 1,\n",
       "         2731: 1,\n",
       "         881: 1,\n",
       "         1573: 1,\n",
       "         2263: 1,\n",
       "         2312: 1,\n",
       "         713: 1,\n",
       "         2563: 1,\n",
       "         2154: 1,\n",
       "         1643: 1,\n",
       "         1157: 2,\n",
       "         603: 1,\n",
       "         899: 1,\n",
       "         1942: 1,\n",
       "         1081: 1,\n",
       "         1023: 1,\n",
       "         835: 3,\n",
       "         1308: 1,\n",
       "         2212: 1,\n",
       "         1190: 1,\n",
       "         670: 2,\n",
       "         362: 1,\n",
       "         1097: 1,\n",
       "         2153: 1,\n",
       "         2190: 1,\n",
       "         569: 1,\n",
       "         724: 1,\n",
       "         1279: 2,\n",
       "         1090: 1,\n",
       "         1515: 1,\n",
       "         2428: 1,\n",
       "         2406: 1,\n",
       "         878: 1,\n",
       "         1337: 2,\n",
       "         1037: 2,\n",
       "         1877: 1,\n",
       "         418: 1,\n",
       "         856: 1,\n",
       "         1315: 1,\n",
       "         2945: 1,\n",
       "         969: 2,\n",
       "         1344: 1,\n",
       "         2858: 1,\n",
       "         1379: 1,\n",
       "         730: 1,\n",
       "         1541: 1,\n",
       "         1534: 1,\n",
       "         842: 1,\n",
       "         687: 1,\n",
       "         1219: 1,\n",
       "         543: 1,\n",
       "         2752: 1,\n",
       "         883: 1,\n",
       "         6138: 1,\n",
       "         109: 1,\n",
       "         2069: 1,\n",
       "         1058: 2,\n",
       "         2602: 1,\n",
       "         968: 1,\n",
       "         431: 1,\n",
       "         3425: 1,\n",
       "         1428: 1,\n",
       "         1600: 1,\n",
       "         1195: 1,\n",
       "         1260: 1,\n",
       "         1680: 1,\n",
       "         2082: 1,\n",
       "         1009: 1,\n",
       "         1072: 1,\n",
       "         315: 1,\n",
       "         1581: 1,\n",
       "         1618: 1,\n",
       "         2304: 1,\n",
       "         1767: 1,\n",
       "         1893: 1,\n",
       "         1346: 1,\n",
       "         1794: 1,\n",
       "         1324: 1,\n",
       "         909: 1,\n",
       "         1797: 1,\n",
       "         276: 1,\n",
       "         826: 1,\n",
       "         3281: 1,\n",
       "         2045: 1,\n",
       "         2353: 1,\n",
       "         2160: 1,\n",
       "         1422: 1,\n",
       "         875: 1,\n",
       "         2256: 1,\n",
       "         573: 1,\n",
       "         472: 1,\n",
       "         618: 1,\n",
       "         390: 1,\n",
       "         520: 1,\n",
       "         425: 1,\n",
       "         2840: 1,\n",
       "         2635: 1,\n",
       "         69: 1,\n",
       "         554: 1,\n",
       "         853: 1,\n",
       "         1880: 1,\n",
       "         343: 1,\n",
       "         756: 1,\n",
       "         1098: 2,\n",
       "         2636: 1,\n",
       "         1411: 2,\n",
       "         1714: 1,\n",
       "         2080: 1,\n",
       "         2726: 1,\n",
       "         1966: 1,\n",
       "         2346: 1,\n",
       "         1338: 1,\n",
       "         696: 1,\n",
       "         1064: 1,\n",
       "         942: 2,\n",
       "         2314: 1,\n",
       "         1068: 1,\n",
       "         2089: 1,\n",
       "         2821: 1,\n",
       "         1786: 2,\n",
       "         1050: 1,\n",
       "         2264: 1,\n",
       "         898: 1,\n",
       "         1199: 1,\n",
       "         1162: 1,\n",
       "         1267: 1,\n",
       "         876: 1,\n",
       "         843: 1,\n",
       "         1065: 1,\n",
       "         377: 1,\n",
       "         1163: 1,\n",
       "         1172: 1,\n",
       "         1168: 1,\n",
       "         1448: 1,\n",
       "         1490: 1,\n",
       "         674: 1,\n",
       "         1787: 1,\n",
       "         1642: 1,\n",
       "         814: 1,\n",
       "         693: 1,\n",
       "         546: 1,\n",
       "         2372: 1,\n",
       "         1678: 1,\n",
       "         2896: 1,\n",
       "         3154: 1,\n",
       "         1294: 1,\n",
       "         1555: 1,\n",
       "         944: 1,\n",
       "         1651: 1,\n",
       "         2925: 1,\n",
       "         819: 1,\n",
       "         534: 1,\n",
       "         1545: 1,\n",
       "         590: 1,\n",
       "         1805: 1,\n",
       "         1052: 1,\n",
       "         1531: 1,\n",
       "         1312: 1,\n",
       "         1668: 1,\n",
       "         1549: 1,\n",
       "         1685: 1,\n",
       "         1394: 1,\n",
       "         2187: 1,\n",
       "         1119: 1,\n",
       "         2167: 1,\n",
       "         2114: 1,\n",
       "         1980: 1,\n",
       "         1546: 1,\n",
       "         1015: 1,\n",
       "         1201: 1,\n",
       "         710: 1,\n",
       "         1102: 1,\n",
       "         1551: 1,\n",
       "         2367: 1,\n",
       "         1697: 1,\n",
       "         1370: 1,\n",
       "         626: 1,\n",
       "         2035: 1,\n",
       "         1606: 1,\n",
       "         1299: 1,\n",
       "         1349: 1,\n",
       "         1354: 1,\n",
       "         2881: 1,\n",
       "         1717: 1,\n",
       "         1124: 1,\n",
       "         1487: 1,\n",
       "         1099: 1,\n",
       "         2124: 1,\n",
       "         3564: 1,\n",
       "         960: 1,\n",
       "         2324: 1,\n",
       "         1402: 1,\n",
       "         694: 1,\n",
       "         1542: 1,\n",
       "         1136: 1,\n",
       "         2178: 1,\n",
       "         2156: 1,\n",
       "         1363: 1,\n",
       "         1887: 1,\n",
       "         3397: 1,\n",
       "         1288: 1,\n",
       "         933: 1,\n",
       "         2802: 1,\n",
       "         2577: 1,\n",
       "         3798: 1,\n",
       "         1085: 1,\n",
       "         3633: 1,\n",
       "         1204: 1,\n",
       "         2338: 1,\n",
       "         1275: 1,\n",
       "         956: 1,\n",
       "         407: 1,\n",
       "         399: 1,\n",
       "         3214: 1,\n",
       "         1647: 1,\n",
       "         1296: 1,\n",
       "         1082: 1,\n",
       "         748: 1,\n",
       "         1077: 1,\n",
       "         1519: 1,\n",
       "         766: 1,\n",
       "         517: 1,\n",
       "         1116: 1,\n",
       "         1908: 1,\n",
       "         1867: 1,\n",
       "         2243: 1,\n",
       "         1498: 1,\n",
       "         1176: 1,\n",
       "         772: 1,\n",
       "         1226: 1,\n",
       "         2042: 1,\n",
       "         979: 1,\n",
       "         776: 1,\n",
       "         4720: 1,\n",
       "         1570: 1,\n",
       "         2989: 1,\n",
       "         1166: 1,\n",
       "         3046: 1,\n",
       "         1309: 1,\n",
       "         2115: 1,\n",
       "         931: 1,\n",
       "         2786: 1,\n",
       "         2485: 1})"
      ]
     },
     "execution_count": 204,
     "metadata": {},
     "output_type": "execute_result"
    }
   ],
   "source": [
    "import collections\n",
    "\n",
    "extractives = []\n",
    "for l in df_o:\n",
    "    extractives.append(len(l))\n",
    "    \n",
    "collections.Counter(extractives)"
   ]
  },
  {
   "cell_type": "code",
   "execution_count": 205,
   "id": "unexpected-decade",
   "metadata": {},
   "outputs": [
    {
     "data": {
      "text/html": [
       "<div>\n",
       "<style scoped>\n",
       "    .dataframe tbody tr th:only-of-type {\n",
       "        vertical-align: middle;\n",
       "    }\n",
       "\n",
       "    .dataframe tbody tr th {\n",
       "        vertical-align: top;\n",
       "    }\n",
       "\n",
       "    .dataframe thead th {\n",
       "        text-align: right;\n",
       "    }\n",
       "</style>\n",
       "<table border=\"1\" class=\"dataframe\">\n",
       "  <thead>\n",
       "    <tr style=\"text-align: right;\">\n",
       "      <th></th>\n",
       "      <th>0</th>\n",
       "    </tr>\n",
       "  </thead>\n",
       "  <tbody>\n",
       "    <tr>\n",
       "      <th>count</th>\n",
       "      <td>787.000000</td>\n",
       "    </tr>\n",
       "    <tr>\n",
       "      <th>mean</th>\n",
       "      <td>1314.105464</td>\n",
       "    </tr>\n",
       "    <tr>\n",
       "      <th>std</th>\n",
       "      <td>726.840755</td>\n",
       "    </tr>\n",
       "    <tr>\n",
       "      <th>min</th>\n",
       "      <td>37.000000</td>\n",
       "    </tr>\n",
       "    <tr>\n",
       "      <th>25%</th>\n",
       "      <td>849.000000</td>\n",
       "    </tr>\n",
       "    <tr>\n",
       "      <th>50%</th>\n",
       "      <td>1176.000000</td>\n",
       "    </tr>\n",
       "    <tr>\n",
       "      <th>75%</th>\n",
       "      <td>1580.500000</td>\n",
       "    </tr>\n",
       "    <tr>\n",
       "      <th>max</th>\n",
       "      <td>6275.000000</td>\n",
       "    </tr>\n",
       "  </tbody>\n",
       "</table>\n",
       "</div>"
      ],
      "text/plain": [
       "                 0\n",
       "count   787.000000\n",
       "mean   1314.105464\n",
       "std     726.840755\n",
       "min      37.000000\n",
       "25%     849.000000\n",
       "50%    1176.000000\n",
       "75%    1580.500000\n",
       "max    6275.000000"
      ]
     },
     "execution_count": 205,
     "metadata": {},
     "output_type": "execute_result"
    }
   ],
   "source": [
    "pd.DataFrame(extractives).describe()"
   ]
  },
  {
   "cell_type": "code",
   "execution_count": 206,
   "id": "extended-neutral",
   "metadata": {},
   "outputs": [
    {
     "data": {
      "text/plain": [
       "<seaborn.axisgrid.FacetGrid at 0x7f8ab7bb6780>"
      ]
     },
     "execution_count": 206,
     "metadata": {},
     "output_type": "execute_result"
    },
    {
     "data": {
      "image/png": "[encoded data removed]",
      "text/plain": [
       "<Figure size 360x360 with 1 Axes>"
      ]
     },
     "metadata": {
      "needs_background": "light"
     },
     "output_type": "display_data"
    }
   ],
   "source": [
    "sns.displot(extractives, binwidth=1)"
   ]
  },
  {
   "cell_type": "markdown",
   "id": "buried-jewel",
   "metadata": {},
   "source": [
    "word 분포"
   ]
  },
  {
   "cell_type": "code",
   "execution_count": 13,
   "id": "cooked-alfred",
   "metadata": {},
   "outputs": [
    {
     "data": {
      "text/plain": [
       "<AxesSubplot:>"
      ]
     },
     "execution_count": 13,
     "metadata": {},
     "output_type": "execute_result"
    },
    {
     "data": {
      "image/png": "[encoded data removed]",
      "text/plain": [
       "<Figure size 1152x432 with 2 Axes>"
      ]
     },
     "metadata": {
      "needs_background": "light"
     },
     "output_type": "display_data"
    }
   ],
   "source": [
    "# word 수\n",
    "\n",
    "\n",
    "extractive_word_counts= []\n",
    "for i in range(len(df_s)):\n",
    "    extractive_word_counts.append(len(df_s[i].split(' ')))\n",
    "    \n",
    "\n",
    "fig, axs = plt.subplots(1, 2, figsize=(16, 6), gridspec_kw=dict(width_ratios=[4, 3]))\n",
    "sns.histplot(extractive_word_counts, binwidth=1, ax=axs[0])\n",
    "sns.boxplot(extractive_word_counts, ax=axs[1])\n"
   ]
  },
  {
   "cell_type": "markdown",
   "id": "documented-adapter",
   "metadata": {},
   "source": [
    "# 생성요약"
   ]
  },
  {
   "cell_type": "code",
   "execution_count": 20,
   "id": "institutional-purpose",
   "metadata": {},
   "outputs": [],
   "source": [
    "from konlpy.tag import Mecab\n",
    "\n",
    "tokenizer = Mecab()"
   ]
  },
  {
   "cell_type": "code",
   "execution_count": 91,
   "id": "centered-farming",
   "metadata": {},
   "outputs": [],
   "source": [
    "def n_grams(tokens, n):\n",
    "    l = len(tokens)\n",
    "    return [tuple(tokens[i: i+n]) for i in range(l) if i + n <= l]"
   ]
  },
  {
   "cell_type": "code",
   "execution_count": 50,
   "id": "metric-apparatus",
   "metadata": {},
   "outputs": [],
   "source": [
    "# print(n_grams(['건너뛰기'], 2))\n",
    "# print(n_grams(['건너뛰기', 'ad', 'sdf'], 2))"
   ]
  },
  {
   "cell_type": "markdown",
   "id": "processed-duncan",
   "metadata": {},
   "source": [
    "Novel N-gram 구해보기"
   ]
  },
  {
   "cell_type": "code",
   "execution_count": 104,
   "id": "liked-gasoline",
   "metadata": {},
   "outputs": [],
   "source": [
    "origin_text = df_o\n",
    "summary_text = df_s"
   ]
  },
  {
   "cell_type": "code",
   "execution_count": 179,
   "id": "israeli-balloon",
   "metadata": {},
   "outputs": [
    {
     "data": {
      "text/plain": [
       "160722"
      ]
     },
     "execution_count": 179,
     "metadata": {},
     "output_type": "execute_result"
    }
   ],
   "source": [
    "len(set(n_grams(source_tokens, 2)))"
   ]
  },
  {
   "cell_type": "code",
   "execution_count": 198,
   "id": "medical-douglas",
   "metadata": {},
   "outputs": [],
   "source": [
    "from konlpy.tag import Mecab\n",
    "\n",
    "def cal_novel(source, summary, n=2, use_tokenizer= True):\n",
    "        tokenizer = Mecab()\n",
    "        \n",
    "        source_tokens= [tokenizer.morphs(text) for text in source]\n",
    "        flattened_list = [item for sublist in source_tokens for item in sublist] #1차원리스트로 만들기\n",
    "        source_tokens = flattened_list\n",
    "        \n",
    "        summary_tokens = [tokenizer.morphs(text) for text in summary]\n",
    "        flattened_list = [item for sublist in source_tokens for item in sublist] #1차원리스트로 만들기\n",
    "        summary_tokens = flattened_list\n",
    "\n",
    "        source_grams = set(n_grams(source_tokens, n))\n",
    "        summary_grams = set(n_grams(summary_tokens, n))\n",
    "\n",
    "        joint = summary_grams.intersection(source_grams) #교집합\n",
    "        novel = summary_grams - joint #요약부분중 겹치치 않는 부분\n",
    "\n",
    "        \n",
    "        return len(novel), len(summary_grams)\n",
    "        \n",
    "def cal_novel_repeat(source_lines, summary_lines, n=2, use_tokenizer=True):\n",
    "    assert len(source_lines) == len(summary_lines)\n",
    "    \n",
    "    lines = zip(source_lines, summary_lines)\n",
    "    \n",
    "    novel_n_grams_prop_list = []  #새로운 단어 비중\n",
    "    total_novel_grams_num = 0   #새로운 단어개수\n",
    "    total_summary_grams_num = 0  #요약단어개수\n",
    "    for source, summary in lines:\n",
    "        novel_grams_num, summary_grams_num = cal_novel(source, summary, n, use_tokenizer)\n",
    "        novel_n_grams_prop_list.append(novel_grams_num / (summary_grams_num + 1e-6))\n",
    "        total_novel_grams_num += novel_grams_num\n",
    "        total_summary_grams_num += summary_grams_num\n",
    "    return novel_n_grams_prop_list, total_novel_grams_num, total_summary_grams_num\n"
   ]
  },
  {
   "cell_type": "code",
   "execution_count": 199,
   "id": "modular-scheduling",
   "metadata": {},
   "outputs": [
    {
     "data": {
      "text/plain": [
       "(551, 1813)"
      ]
     },
     "execution_count": 199,
     "metadata": {},
     "output_type": "execute_result"
    }
   ],
   "source": [
    "cal_novel(origin_text, summary_text,1)"
   ]
  },
  {
   "cell_type": "code",
   "execution_count": 200,
   "id": "turkish-cliff",
   "metadata": {},
   "outputs": [
    {
     "name": "stdout",
     "output_type": "stream",
     "text": [
      "0\n",
      "189116\n",
      "0.0\n"
     ]
    },
    {
     "data": {
      "text/plain": [
       "<seaborn.axisgrid.FacetGrid at 0x7f8a79bcb898>"
      ]
     },
     "execution_count": 200,
     "metadata": {},
     "output_type": "execute_result"
    },
    {
     "data": {
      "image/png": "[encoded data removed]",
      "text/plain": [
       "<Figure size 360x360 with 1 Axes>"
      ]
     },
     "metadata": {
      "needs_background": "light"
     },
     "output_type": "display_data"
    }
   ],
   "source": [
    "# 1-gram\n",
    "novel_n_grams_prop_list, total_novel_grams_num, total_summary_grams_num = cal_novel_repeat(origin_text, summary_text,1)\n",
    "print(total_novel_grams_num)\n",
    "print(total_summary_grams_num)\n",
    "print(total_novel_grams_num / total_summary_grams_num)\n",
    "sns.displot(novel_n_grams_prop_list)"
   ]
  },
  {
   "cell_type": "code",
   "execution_count": 201,
   "id": "informative-principal",
   "metadata": {},
   "outputs": [
    {
     "name": "stdout",
     "output_type": "stream",
     "text": [
      "0\n",
      "535908\n",
      "0.0\n"
     ]
    },
    {
     "data": {
      "text/plain": [
       "<seaborn.axisgrid.FacetGrid at 0x7f8a8849cd68>"
      ]
     },
     "execution_count": 201,
     "metadata": {},
     "output_type": "execute_result"
    },
    {
     "data": {
      "image/png": "[encoded data removed]",
      "text/plain": [
       "<Figure size 360x360 with 1 Axes>"
      ]
     },
     "metadata": {
      "needs_background": "light"
     },
     "output_type": "display_data"
    }
   ],
   "source": [
    "# 2-gram\n",
    "novel_n_grams_prop_list, total_novel_grams_num, total_summary_grams_num = cal_novel_repeat(origin_text, summary_text, n=2)\n",
    "print(total_novel_grams_num)\n",
    "print(total_summary_grams_num)\n",
    "print(total_novel_grams_num / total_summary_grams_num)\n",
    "sns.displot(novel_n_grams_prop_list)"
   ]
  },
  {
   "cell_type": "markdown",
   "id": "searching-nature",
   "metadata": {},
   "source": [
    "# 참고"
   ]
  },
  {
   "cell_type": "code",
   "execution_count": null,
   "id": "behavioral-minneapolis",
   "metadata": {},
   "outputs": [],
   "source": [
    "# def cal_novel(source, summary, n=2, use_tokenizer=False):\n",
    "#     if use_tokenizer == True:\n",
    "#         pass\n",
    "# #         tokenizer = Mecab()\n",
    "# #         source_tokens = tokenizer.morphs(source)\n",
    "# #         summary_tokens = tokenizer.morphs(summary)\n",
    "#     else:\n",
    "#         source_tokens  = source.split()\n",
    "#         summary_tokens = summary.split()\n",
    "        \n",
    "#     source_grams = set(n_grams(source_tokens, n))\n",
    "#     summary_grams = set(n_grams(summary_tokens, n))\n",
    "\n",
    "#     joint = summary_grams.intersection(source_grams) #교집합\n",
    "#     novel = summary_grams - joint #겹치치 않는 부분\n",
    "\n",
    "#     return len(novel), len(summary_grams)\n",
    "\n",
    "        \n",
    "# def cal_novel_repeat(source_lines, summary_lines, n=2, use_tokenizer=False):\n",
    "#     assert len(source_lines) == len(summary_lines)\n",
    "    \n",
    "#     lines = zip(source_lines, summary_lines)\n",
    "    \n",
    "#     novel_n_grams_prop_list = []\n",
    "#     total_novel_grams_num = 0\n",
    "#     total_summary_grams_num = 0\n",
    "#     for source, summary in lines:\n",
    "#         novel_grams_num, summary_grams_num = cal_novel(source, summary, n, use_tokenizer)\n",
    "#         novel_n_grams_prop_list.append(novel_grams_num / (summary_grams_num + 1e-6))\n",
    "#         total_novel_grams_num += novel_grams_num\n",
    "#         total_summary_grams_num += summary_grams_num\n",
    "#     return novel_n_grams_prop_list, total_novel_grams_num, total_summary_grams_num"
   ]
  }
 ],
 "metadata": {
  "kernelspec": {
   "display_name": "Python [conda env:python3] *",
   "language": "python",
   "name": "conda-env-python3-py"
  },
  "language_info": {
   "codemirror_mode": {
    "name": "ipython",
    "version": 3
   },
   "file_extension": ".py",
   "mimetype": "text/x-python",
   "name": "python",
   "nbconvert_exporter": "python",
   "pygments_lexer": "ipython3",
   "version": "3.6.13"
  }
 },
 "nbformat": 4,
 "nbformat_minor": 5
}
